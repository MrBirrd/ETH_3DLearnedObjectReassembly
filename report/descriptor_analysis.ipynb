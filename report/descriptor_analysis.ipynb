{
 "cells": [
  {
   "cell_type": "code",
   "execution_count": 1,
   "metadata": {},
   "outputs": [],
   "source": [
    "import numpy as np\n",
    "import os, sys\n",
    "from scipy.sparse import load_npz\n",
    "import matplotlib.pyplot as plt\n",
    "import seaborn as sb\n",
    "import pandas as pd"
   ]
  },
  {
   "cell_type": "code",
   "execution_count": 2,
   "metadata": {},
   "outputs": [],
   "source": [
    "root = 'data'\n",
    "folders = os.listdir(root)\n",
    "df = pd.DataFrame()"
   ]
  },
  {
   "cell_type": "code",
   "execution_count": 3,
   "metadata": {},
   "outputs": [],
   "source": [
    "pairs = []\n",
    "gt_idzs = []\n",
    "\n",
    "for folder in folders:\n",
    "    npz = [os.path.join(file) for file in  os.listdir(os.path.join(root, folder, 'processed', 'matching')) if file.endswith('npz') and 'hybrid_pillar' in file]\n",
    "    gt = [load_npz(os.path.join(root, folder,'processed', 'matching',item)).toarray() for item in npz]\n",
    "    pair = [(item.split('.')[0].split('_')[-1], item.split('.')[0].split('_')[-2]) for item in npz]\n",
    "    gt_idx = []\n",
    "    for gtasg in gt:\n",
    "        gt_matches0 = np.zeros(gtasg.shape[0]) - 1\n",
    "        for i, kpts_j in enumerate(gtasg):\n",
    "            for j, match in enumerate(kpts_j):\n",
    "                # if there is a match (1) then the keypoint in index i\n",
    "                # matches to the keypoint in index j of the other fragment\n",
    "                if match:\n",
    "                    gt_matches0[i] = j\n",
    "        gt_idx.append(gt_matches0)\n",
    "    pairs.append(pair)\n",
    "    gt_idzs.append(gt_idx)"
   ]
  },
  {
   "cell_type": "markdown",
   "metadata": {},
   "source": [
    "# PILLAR"
   ]
  },
  {
   "cell_type": "code",
   "execution_count": 4,
   "metadata": {},
   "outputs": [],
   "source": [
    "kpts_pillar = []\n",
    "rand_pillar = []\n",
    "\n",
    "for idx, pair in enumerate(pairs):\n",
    "    for item in pair:\n",
    "        index = int(item[0])\n",
    "        frag_kpts = gt_idzs[idx][index]\n",
    "        pair = item\n",
    "        desc_0 = np.load(os.path.join('data', folders[idx], 'processed', 'pillar_keypoint_descriptors', f'keypoint_descriptors_hybrid_pillar.{pair[0]}.npy'))\n",
    "        desc_1 = np.load(os.path.join('data', folders[idx], 'processed', 'pillar_keypoint_descriptors', f'keypoint_descriptors_hybrid_pillar.{pair[1]}.npy'))\n",
    "        descriptor_pairs = []\n",
    "        pair_indizes = []\n",
    "\n",
    "        for i, j in enumerate(frag_kpts):\n",
    "            # match if its greater than -1\n",
    "            if j > -1:\n",
    "                descriptor_pairs.append((desc_0[i], desc_1[int(j)]))\n",
    "                pair_indizes.append((i,j))\n",
    "                pair_indizes.append((j,i))\n",
    "\n",
    "        pair_indizes = np.array(pair_indizes)\n",
    "        descriptor_pairs = np.array(descriptor_pairs)\n",
    "\n",
    "        # normal ones\n",
    "        corr_kpts = []\n",
    "        for pair in descriptor_pairs:\n",
    "            m1 = pair[0].ravel()\n",
    "            m2 = pair[1].ravel()\n",
    "            corr_kpts.append(np.corrcoef(m1, m2)[0,1])\n",
    "        corr_kpts = np.array(corr_kpts)\n",
    "\n",
    "        # random ones\n",
    "        # generate random samples of descriptor pairs which are not a match\n",
    "        descriptor_pairs_random = []\n",
    "        while len(descriptor_pairs_random) < len(descriptor_pairs):\n",
    "            i = np.random.randint(512)\n",
    "            j = np.random.randint(512)\n",
    "            if (i,j) not in pair_indizes:\n",
    "                descriptor_pairs_random.append((desc_0[i], desc_1[int(j)]))  \n",
    "\n",
    "        descriptor_pairs_random = np.array(descriptor_pairs_random)\n",
    "        corr_kpts_rand = []\n",
    "        for pair in descriptor_pairs_random:\n",
    "            m1 = pair[0].ravel()\n",
    "            m2 = pair[1].ravel()\n",
    "            corr_kpts_rand.append(np.corrcoef(m1, m2)[0,1])\n",
    "        corr_kpts_rand = np.array(corr_kpts_rand)\n",
    "        kpts_pillar.append(np.mean(corr_kpts))\n",
    "        rand_pillar.append(np.mean(corr_kpts_rand))"
   ]
  },
  {
   "cell_type": "markdown",
   "metadata": {},
   "source": [
    "#FPFH"
   ]
  },
  {
   "cell_type": "code",
   "execution_count": 5,
   "metadata": {},
   "outputs": [],
   "source": [
    "kpts_fpfh = []\n",
    "rand_fpfh = []\n",
    "\n",
    "for idx, pair in enumerate(pairs):\n",
    "    for item in pair:\n",
    "        index = int(item[0])\n",
    "        frag_kpts = gt_idzs[idx][index]\n",
    "        pair = item\n",
    "        desc_0 = np.load(os.path.join('data', folders[idx], 'processed', 'keypoint_descriptors', f'keypoint_descriptors_hybrid_fpfh.{pair[0]}.npy'))\n",
    "        desc_1 = np.load(os.path.join('data', folders[idx], 'processed', 'keypoint_descriptors', f'keypoint_descriptors_hybrid_fpfh.{pair[1]}.npy'))\n",
    "        descriptor_pairs = []\n",
    "        pair_indizes = []\n",
    "\n",
    "        for i, j in enumerate(frag_kpts):\n",
    "            # match if its greater than -1\n",
    "            if j > -1:\n",
    "                descriptor_pairs.append((desc_0[i], desc_1[int(j)]))\n",
    "                pair_indizes.append((i,j))\n",
    "                pair_indizes.append((j,i))\n",
    "\n",
    "        pair_indizes = np.array(pair_indizes)\n",
    "        descriptor_pairs = np.array(descriptor_pairs)\n",
    "\n",
    "        # normal ones\n",
    "        corr_kpts = []\n",
    "        for pair in descriptor_pairs:\n",
    "            m1 = pair[0].ravel()\n",
    "            m2 = pair[1].ravel()\n",
    "            corr_kpts.append(np.corrcoef(m1, m2)[0,1])\n",
    "        corr_kpts = np.array(corr_kpts)\n",
    "\n",
    "        # random ones\n",
    "        # generate random samples of descriptor pairs which are not a match\n",
    "        descriptor_pairs_random = []\n",
    "        while len(descriptor_pairs_random) < len(descriptor_pairs):\n",
    "            i = np.random.randint(512)\n",
    "            j = np.random.randint(512)\n",
    "            if (i,j) not in pair_indizes:\n",
    "                descriptor_pairs_random.append((desc_0[i], desc_1[int(j)]))  \n",
    "\n",
    "\n",
    "        descriptor_pairs_random = np.array(descriptor_pairs_random)\n",
    "        corr_kpts_rand = []\n",
    "        for pair in descriptor_pairs_random:\n",
    "            m1 = pair[0]\n",
    "            m2 = pair[1]\n",
    "            corr_kpts_rand.append(np.corrcoef(m1, m2)[0,1])\n",
    "        corr_kpts_rand = np.array(corr_kpts_rand)\n",
    "        kpts_fpfh.append(np.mean(corr_kpts))\n",
    "        rand_fpfh.append(np.mean(corr_kpts_rand))"
   ]
  },
  {
   "cell_type": "markdown",
   "metadata": {},
   "source": [
    "#FPFH Inverted"
   ]
  },
  {
   "cell_type": "code",
   "execution_count": 6,
   "metadata": {},
   "outputs": [],
   "source": [
    "kpts_fpfh_inv = []\n",
    "rand_fpfh_inv = []\n",
    "\n",
    "for idx, pair in enumerate(pairs):\n",
    "    for item in pair:\n",
    "        index = int(item[0])\n",
    "        frag_kpts = gt_idzs[idx][index]\n",
    "        pair = item\n",
    "        desc_0 = np.load(os.path.join('data', folders[idx], 'processed', 'keypoint_descriptors', f'keypoint_descriptors_hybrid_fpfh.{pair[0]}.npy'))\n",
    "        desc_1 = np.load(os.path.join('data', folders[idx], 'processed', 'keypoint_descriptors_inverted', f'keypoint_descriptors_hybrid_fpfh.{pair[1]}.npy'))\n",
    "        descriptor_pairs = []\n",
    "        pair_indizes = []\n",
    "\n",
    "        for i, j in enumerate(frag_kpts):\n",
    "            # match if its greater than -1\n",
    "            if j > -1:\n",
    "                descriptor_pairs.append((desc_0[i], desc_1[int(j)]))\n",
    "                pair_indizes.append((i,j))\n",
    "                pair_indizes.append((j,i))\n",
    "\n",
    "        pair_indizes = np.array(pair_indizes)\n",
    "        descriptor_pairs = np.array(descriptor_pairs)\n",
    "\n",
    "        # normal ones\n",
    "        corr_kpts = []\n",
    "        for pair in descriptor_pairs:\n",
    "            m1 = pair[0].ravel()\n",
    "            m2 = pair[1].ravel()\n",
    "            corr_kpts.append(np.corrcoef(m1, m2)[0,1])\n",
    "        corr_kpts = np.array(corr_kpts)\n",
    "\n",
    "        # random ones\n",
    "        # generate random samples of descriptor pairs which are not a match\n",
    "        descriptor_pairs_random = []\n",
    "        while len(descriptor_pairs_random) < len(descriptor_pairs):\n",
    "            i = np.random.randint(512)\n",
    "            j = np.random.randint(512)\n",
    "            if (i,j) not in pair_indizes:\n",
    "                descriptor_pairs_random.append((desc_0[i], desc_1[int(j)]))  \n",
    "\n",
    "\n",
    "        descriptor_pairs_random = np.array(descriptor_pairs_random)\n",
    "        corr_kpts_rand = []\n",
    "        for pair in descriptor_pairs_random:\n",
    "            m1 = pair[0]\n",
    "            m2 = pair[1]\n",
    "            corr_kpts_rand.append(np.corrcoef(m1, m2)[0,1])\n",
    "        corr_kpts_rand = np.array(corr_kpts_rand)\n",
    "        kpts_fpfh_inv.append(np.mean(corr_kpts))\n",
    "        rand_fpfh_inv.append(np.mean(corr_kpts_rand))\n"
   ]
  },
  {
   "cell_type": "markdown",
   "metadata": {},
   "source": [
    "#SHOT"
   ]
  },
  {
   "cell_type": "code",
   "execution_count": 7,
   "metadata": {},
   "outputs": [],
   "source": [
    "kpts_shot = []\n",
    "rand_shot = []\n",
    "\n",
    "for idx, pair in enumerate(pairs):\n",
    "\n",
    "    for item in pair:\n",
    "        index = int(item[0])\n",
    "        frag_kpts = gt_idzs[idx][index]\n",
    "        pair = item\n",
    "        try:\n",
    "            desc_0 = np.load(os.path.join('data', folders[idx], 'processed', 'keypoint_descriptors', f'keypoint_descriptors_hybrid_shot.{pair[0]}.npy'))\n",
    "            desc_1 = np.load(os.path.join('data', folders[idx], 'processed', 'keypoint_descriptors', f'keypoint_descriptors_hybrid_shot.{pair[1]}.npy'))\n",
    "        except:\n",
    "            continue\n",
    "        descriptor_pairs = []\n",
    "        pair_indizes = []\n",
    "\n",
    "        for i, j in enumerate(frag_kpts):\n",
    "            # match if its greater than -1\n",
    "            if j > -1:\n",
    "                descriptor_pairs.append((desc_0[i], desc_1[int(j)]))\n",
    "                pair_indizes.append((i,j))\n",
    "                pair_indizes.append((j,i))\n",
    "\n",
    "        pair_indizes = np.array(pair_indizes)\n",
    "        descriptor_pairs = np.array(descriptor_pairs)\n",
    "\n",
    "        # normal ones\n",
    "        corr_kpts = []\n",
    "        for pair in descriptor_pairs:\n",
    "            m1 = pair[0].ravel()\n",
    "            m2 = pair[1].ravel()\n",
    "            corr_kpts.append(np.corrcoef(m1, m2)[0,1])\n",
    "        corr_kpts = np.array(corr_kpts)\n",
    "\n",
    "        # random ones\n",
    "        # generate random samples of descriptor pairs which are not a match\n",
    "        descriptor_pairs_random = []\n",
    "        while len(descriptor_pairs_random) < len(descriptor_pairs):\n",
    "            i = np.random.randint(512)\n",
    "            j = np.random.randint(512)\n",
    "            if (i,j) not in pair_indizes:\n",
    "                descriptor_pairs_random.append((desc_0[i], desc_1[int(j)]))  \n",
    "\n",
    "\n",
    "        descriptor_pairs_random = np.array(descriptor_pairs_random)\n",
    "        corr_kpts_rand = []\n",
    "        for pair in descriptor_pairs_random:\n",
    "            m1 = pair[0]\n",
    "            m2 = pair[1]\n",
    "            corr_kpts_rand.append(np.corrcoef(m1, m2)[0,1])\n",
    "        corr_kpts_rand = np.array(corr_kpts_rand)\n",
    "        kpts_shot.append(np.mean(corr_kpts))\n",
    "        rand_shot.append(np.mean(corr_kpts_rand))"
   ]
  },
  {
   "cell_type": "code",
   "execution_count": 8,
   "metadata": {},
   "outputs": [],
   "source": [
    "data = [kpts_fpfh, rand_fpfh, kpts_fpfh_inv, rand_fpfh_inv, kpts_pillar, rand_pillar, kpts_shot, rand_shot]\n",
    "labels = ['matching', 'random']*4"
   ]
  },
  {
   "cell_type": "code",
   "execution_count": 14,
   "metadata": {},
   "outputs": [],
   "source": [
    "import matplotlib.patches as mpatches\n",
    "colors = ['blue']*2 + ['lightblue']*2 + ['lightgreen']*2 + ['lightgray']*2\n",
    "p1 = mpatches.Patch(color='blue', label='FPFH')\n",
    "p2 = mpatches.Patch(color='lightblue', label='FPFH-inv')\n",
    "p3 = mpatches.Patch(color='lightgreen', label='Sphere')\n",
    "p4 = mpatches.Patch(color='lightgray', label='SHOT')\n",
    "patches = [p1, p2, p3, p4]"
   ]
  },
  {
   "cell_type": "code",
   "execution_count": 16,
   "metadata": {},
   "outputs": [],
   "source": [
    "sb.set_context('paper')\n",
    "plt.rc('font', family='sans-serif')\n",
    "plt.rc('xtick', labelsize='medium')\n",
    "plt.rc('ytick', labelsize='medium')"
   ]
  },
  {
   "cell_type": "code",
   "execution_count": 21,
   "metadata": {},
   "outputs": [
    {
     "data": {
      "image/png": "[encoded data removed]",
      "text/plain": [
       "<Figure size 432x360 with 1 Axes>"
      ]
     },
     "metadata": {
      "needs_background": "light"
     },
     "output_type": "display_data"
    }
   ],
   "source": [
    "\n",
    "fig1, ax1 = plt.subplots(figsize=(6,5))\n",
    "ax1.set_title('')\n",
    "# ax1.set_title('Feature correlation of matching keypoint pairs VS random keypoint pairs')\n",
    "bp1 = ax1.boxplot(data, patch_artist=True, labels=labels)\n",
    "ax1.set_ylim([0,1])\n",
    "#ax1.grid(color='grey', axis='y', linestyle='-', linewidth=0.5, alpha=0.5)\n",
    "ax1.set_ylabel(\"Correlation\")\n",
    "\n",
    "\n",
    "for patch, color in zip(bp1['boxes'], colors):\n",
    "    patch.set_facecolor(color)\n",
    "    patch.set_linewidth(2)\n",
    "\n",
    "for patch in bp1['whiskers']:\n",
    "    patch.set_linewidth(2)\n",
    "\n",
    "plt.legend(handles=patches, prop={'size': 12}, ncol=2)\n",
    "# plt.subplots_adjust(left=0.2, right=0.95, top=0.93)\n",
    "sb.set_context(\"paper\", font_scale=1.1, rc={\"lines.linewidth\": 2})\n",
    "plt.xticks(rotation = 45, ha='right')\n",
    "\n",
    "plt.savefig('boxplot.pdf',dpi=600,bbox_inches='tight')"
   ]
  }
 ],
 "metadata": {
  "interpreter": {
   "hash": "8d978ae2e8a86257f048fc033d3eda8d42f083b4862912b2e1169677d4916a1a"
  },
  "kernelspec": {
   "display_name": "Python 3 (ipykernel)",
   "language": "python",
   "name": "python3"
  },
  "language_info": {
   "codemirror_mode": {
    "name": "ipython",
    "version": 3
   },
   "file_extension": ".py",
   "mimetype": "text/x-python",
   "name": "python",
   "nbconvert_exporter": "python",
   "pygments_lexer": "ipython3",
   "version": "3.9.7"
  }
 },
 "nbformat": 4,
 "nbformat_minor": 2
}
