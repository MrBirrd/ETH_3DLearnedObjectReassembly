{
 "cells": [
  {
   "cell_type": "code",
   "execution_count": 12,
   "metadata": {},
   "outputs": [],
   "source": [
    "import numpy as np\n",
    "from scipy.sparse import load_npz\n",
    "import matplotlib.pyplot as plt\n",
    "import os"
   ]
  },
  {
   "cell_type": "code",
   "execution_count": 13,
   "metadata": {},
   "outputs": [],
   "source": [
    "root = 'npz/data'\n",
    "folders = os.listdir(root)"
   ]
  },
  {
   "cell_type": "code",
   "execution_count": 14,
   "metadata": {},
   "outputs": [],
   "source": [
    "matches_sd = []\n",
    "matches_sticky = []\n",
    "matches_hybrid = []"
   ]
  },
  {
   "cell_type": "code",
   "execution_count": 15,
   "metadata": {},
   "outputs": [],
   "source": [
    "for folder in folders:\n",
    "    files = [file for file in os.listdir(os.path.join(root, folder,'processed', 'matching')) if 'SD_fpfh' in file]\n",
    "    for file in files:\n",
    "        gt = load_npz(os.path.join(root, folder,'processed', 'matching', file)).toarray()\n",
    "        matches = np.sum(gt.ravel() > 0)\n",
    "        matches_sd.append(matches)\n",
    "\n",
    "for folder in folders:\n",
    "    files = [file for file in os.listdir(os.path.join(root, folder,'processed', 'matching')) if 'sticky_fpfh' in file]\n",
    "    for file in files:\n",
    "        gt = load_npz(os.path.join(root, folder,'processed', 'matching', file)).toarray()\n",
    "        matches = np.sum(gt.ravel() > 0)\n",
    "        matches_sticky.append(matches)\n",
    "    \n",
    "for folder in folders:\n",
    "    files = [file for file in os.listdir(os.path.join(root, folder,'processed', 'matching')) if 'hybrid_pillar' in file]\n",
    "    for file in files:\n",
    "        gt = load_npz(os.path.join(root, folder,'processed', 'matching', file)).toarray()\n",
    "        matches = np.sum(gt.ravel() > 0)\n",
    "        matches_hybrid.append(matches)"
   ]
  },
  {
   "cell_type": "code",
   "execution_count": 16,
   "metadata": {},
   "outputs": [],
   "source": [
    "total_sd = sum(matches_sd) / (len(matches_sd) * 512)\n",
    "total_hybrid = sum(matches_hybrid) / (len(matches_hybrid) * 512)\n",
    "total_sticky = sum(matches_sticky) / (len(matches_sticky) * 512)"
   ]
  },
  {
   "cell_type": "code",
   "execution_count": 17,
   "metadata": {},
   "outputs": [
    {
     "name": "stdout",
     "output_type": "stream",
     "text": [
      "0.12397610657764589 0.07960674765084075 0.14129922415924828\n"
     ]
    }
   ],
   "source": [
    "print(total_sd, total_hybrid, total_sticky)"
   ]
  },
  {
   "cell_type": "code",
   "execution_count": 18,
   "metadata": {},
   "outputs": [
    {
     "name": "stdout",
     "output_type": "stream",
     "text": [
      "64174 41207 73141\n"
     ]
    }
   ],
   "source": [
    "print(sum(matches_sd), sum(matches_hybrid), sum(matches_sticky))"
   ]
  }
 ],
 "metadata": {
  "interpreter": {
   "hash": "b7ded149facef4db48f6260283a103e3f8f94e41b3f95c6e98a682cbfc4ee236"
  },
  "kernelspec": {
   "display_name": "Python 3.7.12 ('3dvision')",
   "language": "python",
   "name": "python3"
  },
  "language_info": {
   "codemirror_mode": {
    "name": "ipython",
    "version": 3
   },
   "file_extension": ".py",
   "mimetype": "text/x-python",
   "name": "python",
   "nbconvert_exporter": "python",
   "pygments_lexer": "ipython3",
   "version": "3.7.12"
  },
  "orig_nbformat": 4
 },
 "nbformat": 4,
 "nbformat_minor": 2
}
