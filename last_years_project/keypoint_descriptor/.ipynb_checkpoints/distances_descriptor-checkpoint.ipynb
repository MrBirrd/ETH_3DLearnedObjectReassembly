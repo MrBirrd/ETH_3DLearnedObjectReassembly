{
 "cells": [
  {
   "cell_type": "code",
   "execution_count": 1,
   "metadata": {},
   "outputs": [],
   "source": [
    "from pickle import PROTO\n",
    "import numpy as np\n",
    "import pandas as pd\n",
    "import matplotlib.pyplot as plt\n",
    "import matplotlib.cm as cm\n",
    "from scipy.spatial.distance import cdist\n",
    "import time\n",
    "import pdb\n"
   ]
  },
  {
   "cell_type": "code",
   "execution_count": 2,
   "metadata": {},
   "outputs": [
    {
     "name": "stdout",
     "output_type": "stream",
     "text": [
      "['brick', 'cake', 'gargoyle', 'head', 'sculpture', 'venus', 'cat', 'cat_low_res_0', 'cat_seed_0', 'cat_seed_1', 'cat_seed_3', 'cat_seed_4', 'cat_seed_5', 'cube_6', 'cube_20', 'cube_20_seed_1', 'cube_20_seed_2', 'cube_20_seed_3', 'cube_20_seed_4', 'cube_20_seed_5', 'cube_20_seed_6', 'cube_20_seed_7', 'cube_20_seed_8', 'cube_20_seed_9', 'cube_20_seed_10', 'cube_20_seed_11', 'cube_20_seed_12', 'cube_20_seed_13', 'cube_20_seed_14', 'cylinder_20_seed_1', 'cylinder_20_seed_2', 'cylinder_20_seed_3', 'cylinder_20_seed_4', 'cylinder_20_seed_5', 'cylinder_20_seed_6', 'cylinder_20_seed_7', 'cylinder_20_seed_8', 'cylinder_20_seed_9']\n"
     ]
    }
   ],
   "source": [
    "sigma=0.001\n",
    "\n",
    "n = 0\n",
    "m = 0\n",
    "p = 0\n",
    "KEYPOINT_PATH = \"./data/keypoints/keypoints_2/keypoints_2/\"\n",
    "names=[]\n",
    "names.extend(['brick', 'cake', 'gargoyle', 'head', 'sculpture', 'venus', 'cat', 'cat_low_res_0'])\n",
    "for i in range(0,6):\n",
    "    if i == 2: continue\n",
    "    names.append(f'cat_seed_{i}')\n",
    "names.extend(['cube_6', 'cube_20'])\n",
    "for i in range (1,15):\n",
    "    names.append(f'cube_20_seed_{i}')\n",
    "for i in range (1,10):\n",
    "    names.append(f'cylinder_20_seed_{i}')\n",
    "\n",
    "print(names)\n",
    "\n"
   ]
  },
  {
   "cell_type": "code",
   "execution_count": 3,
   "metadata": {},
   "outputs": [
    {
     "ename": "FileNotFoundError",
     "evalue": "[Errno 2] No such file or directory: './data/keypoints/keypoints_2/keypoints_2/brick_FN/0.npy'",
     "output_type": "error",
     "traceback": [
      "\u001B[0;31m---------------------------------------------------------------------------\u001B[0m",
      "\u001B[0;31mFileNotFoundError\u001B[0m                         Traceback (most recent call last)",
      "\u001B[0;32m/var/folders/c2/tz_y3_zs1j1d1f4ljjndq9fm0000gn/T/ipykernel_82210/993099886.py\u001B[0m in \u001B[0;36m<module>\u001B[0;34m\u001B[0m\n\u001B[1;32m      3\u001B[0m \u001B[0mname\u001B[0m \u001B[0;34m=\u001B[0m \u001B[0;34m'brick'\u001B[0m\u001B[0;34m\u001B[0m\u001B[0;34m\u001B[0m\u001B[0m\n\u001B[1;32m      4\u001B[0m \u001B[0mpart\u001B[0m \u001B[0;34m=\u001B[0m \u001B[0;36m0\u001B[0m\u001B[0;34m\u001B[0m\u001B[0;34m\u001B[0m\u001B[0m\n\u001B[0;32m----> 5\u001B[0;31m \u001B[0mkp1\u001B[0m \u001B[0;34m=\u001B[0m \u001B[0mnp\u001B[0m\u001B[0;34m.\u001B[0m\u001B[0mload\u001B[0m\u001B[0;34m(\u001B[0m\u001B[0mKEYPOINT_PATH\u001B[0m \u001B[0;34m+\u001B[0m \u001B[0;34mf'{name}_FN/{part}.npy'\u001B[0m\u001B[0;34m)\u001B[0m\u001B[0;34m[\u001B[0m\u001B[0;34m:\u001B[0m\u001B[0;34m,\u001B[0m\u001B[0;34m:\u001B[0m\u001B[0;36m3\u001B[0m\u001B[0;34m]\u001B[0m\u001B[0;34m\u001B[0m\u001B[0;34m\u001B[0m\u001B[0m\n\u001B[0m\u001B[1;32m      6\u001B[0m \u001B[0mkp_2\u001B[0m \u001B[0;34m=\u001B[0m \u001B[0mnp\u001B[0m\u001B[0;34m.\u001B[0m\u001B[0mload\u001B[0m\u001B[0;34m(\u001B[0m\u001B[0mKEYPOINT_PATH\u001B[0m\u001B[0;34m+\u001B[0m\u001B[0;34mf'{name}_FN/1.npy'\u001B[0m\u001B[0;34m)\u001B[0m\u001B[0;34m[\u001B[0m\u001B[0;34m:\u001B[0m\u001B[0;34m,\u001B[0m\u001B[0;34m:\u001B[0m\u001B[0;36m3\u001B[0m\u001B[0;34m]\u001B[0m\u001B[0;34m\u001B[0m\u001B[0;34m\u001B[0m\u001B[0m\n\u001B[1;32m      7\u001B[0m \u001B[0;34m\u001B[0m\u001B[0m\n",
      "\u001B[0;32m~/Desktop/3D_object_reassembly/venv/lib/python3.9/site-packages/numpy/lib/npyio.py\u001B[0m in \u001B[0;36mload\u001B[0;34m(file, mmap_mode, allow_pickle, fix_imports, encoding)\u001B[0m\n\u001B[1;32m    405\u001B[0m             \u001B[0mown_fid\u001B[0m \u001B[0;34m=\u001B[0m \u001B[0;32mFalse\u001B[0m\u001B[0;34m\u001B[0m\u001B[0;34m\u001B[0m\u001B[0m\n\u001B[1;32m    406\u001B[0m         \u001B[0;32melse\u001B[0m\u001B[0;34m:\u001B[0m\u001B[0;34m\u001B[0m\u001B[0;34m\u001B[0m\u001B[0m\n\u001B[0;32m--> 407\u001B[0;31m             \u001B[0mfid\u001B[0m \u001B[0;34m=\u001B[0m \u001B[0mstack\u001B[0m\u001B[0;34m.\u001B[0m\u001B[0menter_context\u001B[0m\u001B[0;34m(\u001B[0m\u001B[0mopen\u001B[0m\u001B[0;34m(\u001B[0m\u001B[0mos_fspath\u001B[0m\u001B[0;34m(\u001B[0m\u001B[0mfile\u001B[0m\u001B[0;34m)\u001B[0m\u001B[0;34m,\u001B[0m \u001B[0;34m\"rb\"\u001B[0m\u001B[0;34m)\u001B[0m\u001B[0;34m)\u001B[0m\u001B[0;34m\u001B[0m\u001B[0;34m\u001B[0m\u001B[0m\n\u001B[0m\u001B[1;32m    408\u001B[0m             \u001B[0mown_fid\u001B[0m \u001B[0;34m=\u001B[0m \u001B[0;32mTrue\u001B[0m\u001B[0;34m\u001B[0m\u001B[0;34m\u001B[0m\u001B[0m\n\u001B[1;32m    409\u001B[0m \u001B[0;34m\u001B[0m\u001B[0m\n",
      "\u001B[0;31mFileNotFoundError\u001B[0m: [Errno 2] No such file or directory: './data/keypoints/keypoints_2/keypoints_2/brick_FN/0.npy'"
     ]
    }
   ],
   "source": [
    "fragment=[]\n",
    "keypoints=[]\n",
    "name = 'brick'\n",
    "part = 0\n",
    "kp1 = np.load(KEYPOINT_PATH + f'{name}_FN/{part}.npy')[:,:3]\n",
    "kp_2 = np.load(KEYPOINT_PATH+f'{name}_FN/1.npy')[:,:3]"
   ]
  },
  {
   "cell_type": "code",
   "execution_count": null,
   "metadata": {},
   "outputs": [],
   "source": [
    "cdist(kp1, kp_2, 'euclidean', axis = 1).shape"
   ]
  },
  {
   "cell_type": "code",
   "execution_count": null,
   "metadata": {},
   "outputs": [],
   "source": [
    "coords = [(1, 2),\n",
    "          (2, 3), \n",
    "          (4,5) ,\n",
    "          (7,8)]\n",
    "cdist(coords,coords,'euclidean')"
   ]
  },
  {
   "cell_type": "code",
   "execution_count": null,
   "metadata": {},
   "outputs": [],
   "source": []
  }
 ],
 "metadata": {
  "kernelspec": {
   "display_name": "Python 3",
   "language": "python",
   "name": "python3"
  },
  "language_info": {
   "codemirror_mode": {
    "name": "ipython",
    "version": 3
   },
   "file_extension": ".py",
   "mimetype": "text/x-python",
   "name": "python",
   "nbconvert_exporter": "python",
   "pygments_lexer": "ipython3",
   "version": "3.7.4"
  }
 },
 "nbformat": 4,
 "nbformat_minor": 2
}