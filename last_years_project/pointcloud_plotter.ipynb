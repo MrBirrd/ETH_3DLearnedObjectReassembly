{
 "cells": [
  {
   "cell_type": "code",
   "execution_count": null,
   "metadata": {},
   "outputs": [],
   "source": [
    "import numpy as np\n",
    "import pptk\n",
    "import os"
   ]
  },
  {
   "cell_type": "code",
   "execution_count": null,
   "metadata": {},
   "outputs": [],
   "source": [
    "# path to folder to plot multiple files\n",
    "#folder_path = './datasets/real_objects/head/'\n",
    "folder_path = ''\n",
    "\n",
    "# file path to plot a single file\n",
    "file_path = './datasets/real_objects/head/head_part_0.npy'\n",
    "#file_path = ''"
   ]
  },
  {
   "cell_type": "code",
   "execution_count": null,
   "metadata": {},
   "outputs": [],
   "source": [
    "data = []\n",
    "pointcloud = []\n",
    "\n",
    "# read whole dataset if a folder is given\n",
    "if folder_path != '':\n",
    "    # read all the files in the folder\n",
    "    for file in os.listdir(folder_path):\n",
    "        file = np.load(folder_path + file)\n",
    "        data.append(file)\n",
    "    # append all the fragments to a big pointcloud\n",
    "    for fragment in data:\n",
    "        pointcloud = np.append(pointcloud, fragment[:,[0,1,2]])\n",
    "elif file_path != '':\n",
    "    file = np.load(file_path)\n",
    "    pointcloud = file[:,[0,1,2]]\n"
   ]
  },
  {
   "cell_type": "code",
   "execution_count": null,
   "metadata": {},
   "outputs": [],
   "source": [
    "v = pptk.viewer(pointcloud)"
   ]
  },
  {
   "cell_type": "code",
   "execution_count": null,
   "metadata": {},
   "outputs": [],
   "source": []
  }
 ],
 "metadata": {
  "interpreter": {
   "hash": "85b05ebfe122e68616918d6cbf98221988349f676e47a7f158ff85daf53f1592"
  },
  "kernelspec": {
   "display_name": "Python 3.9.7 ('ml')",
   "language": "python",
   "name": "python3"
  },
  "language_info": {
   "codemirror_mode": {
    "name": "ipython",
    "version": 3
   },
   "file_extension": ".py",
   "mimetype": "text/x-python",
   "name": "python",
   "nbconvert_exporter": "python",
   "pygments_lexer": "ipython3",
   "version": "3.7.12"
  },
  "orig_nbformat": 4
 },
 "nbformat": 4,
 "nbformat_minor": 2
}
