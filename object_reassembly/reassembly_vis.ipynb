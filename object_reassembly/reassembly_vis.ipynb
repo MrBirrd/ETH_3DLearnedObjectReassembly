{
 "cells": [
  {
   "cell_type": "code",
   "execution_count": 1,
   "metadata": {
    "collapsed": true,
    "pycharm": {
     "name": "#%%\n"
    }
   },
   "outputs": [
    {
     "name": "stderr",
     "output_type": "stream",
     "text": [
      "INFO - 2022-04-23 16:14:26,764 - acceleratesupport - OpenGL_accelerate module loaded\n",
      "INFO - 2022-04-23 16:14:26,775 - arraydatatype - Using accelerated ArrayDatatype\n"
     ]
    }
   ],
   "source": [
    "from reassembly_main import FracturedObject\n",
    "from compas_view2.app import App\n",
    "from compas_view2.collections import Collection\n",
    "from compas.geometry import Sphere, Translation, Rotation\n",
    "import numpy as np"
   ]
  },
  {
   "cell_type": "code",
   "execution_count": 2,
   "outputs": [],
   "source": [
    "path = \"../data/bottle_10_seed_1/\"\n",
    "\n",
    "dummy_matches0 = [0, 1, 2]\n",
    "dummy_matches1 = [0, 1, 2]\n",
    "\n",
    "bottle = FracturedObject()\n",
    "\n",
    "bottle.load_object(path)\n",
    "for i in range(10):\n",
    "    for ii in range(10):\n",
    "        if bottle.fragment_matches[i][ii]:\n",
    "            bottle.load_kpt_matches(dummy_matches0, dummy_matches1, i, ii)\n",
    "bottle.find_transformations_first3kpts()"
   ],
   "metadata": {
    "collapsed": false,
    "pycharm": {
     "name": "#%%\n"
    }
   }
  },
  {
   "cell_type": "code",
   "execution_count": 4,
   "outputs": [],
   "source": [
    "viewer = App()\n",
    "obj = viewer.add(bottle.fragments[0])\n",
    "R, t = bottle.transformations[(0,1)]\n",
    "frames = 10\n",
    "interval = 1000\n",
    "\n",
    "rot = Rotation.from_matrix(R)\n",
    "angles = rot.euler_angles()\n",
    "\n",
    "t=np.array([1, 1, 0])/frames\n",
    "a = np.array(angles)/frames\n",
    "\n",
    "@viewer.on(interval=interval, frames=frames)\n",
    "def move(f):\n",
    "    obj.translation = t*f\n",
    "    obj.rotation = a*f\n",
    "    obj.update()\n",
    "viewer.view.camera.distance = 2\n",
    "viewer.show()"
   ],
   "metadata": {
    "collapsed": false,
    "pycharm": {
     "name": "#%%\n"
    }
   }
  },
  {
   "cell_type": "code",
   "execution_count": 9,
   "outputs": [],
   "source": [],
   "metadata": {
    "collapsed": false,
    "pycharm": {
     "name": "#%%\n"
    }
   }
  }
 ],
 "metadata": {
  "kernelspec": {
   "display_name": "Python 3",
   "language": "python",
   "name": "python3"
  },
  "language_info": {
   "codemirror_mode": {
    "name": "ipython",
    "version": 2
   },
   "file_extension": ".py",
   "mimetype": "text/x-python",
   "name": "python",
   "nbconvert_exporter": "python",
   "pygments_lexer": "ipython2",
   "version": "2.7.6"
  }
 },
 "nbformat": 4,
 "nbformat_minor": 0
}